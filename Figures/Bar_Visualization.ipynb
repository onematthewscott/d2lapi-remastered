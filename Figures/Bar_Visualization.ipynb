{
 "cells": [
  {
   "cell_type": "markdown",
   "metadata": {},
   "source": [
    "# Figures\n",
    "## Quiz Score Frequency Distribution\n",
    "### MSU D2L Instructor API\n",
    "\n",
    "Our core project does not have a clear need for visualization, however, we know that visualization is a key part of any data scientist's work, and wanted to use this milestone as an opportunity to provide extra functionality to our sponsors. This being said, to decide what kind of visualization to make we asked our sponsors if there are any visualizations or graphs that aren't already available in the D2L interface (or are availiable but not optimized) that may be helpful to instructors and researchers using our project! They said that they thought a graph showing the frequency of students' overall quiz scores would likely be the most valuable. We took this insight and decided to run with it, creating an interactive visualization that shows the frequency of scores for the full quiz, and each question, based on the value selected in an interactive dropdown. This will likely be incoporated as extra functionality in our D2L library. \n",
    "\n",
    "Please first run all cells, then interact with the widgets to bring in data files and carry out tasks. When you first run the full notebook, there may be errors because of lack of data, etc, that should be resolved when you bring in your data."
   ]
  },
  {
   "cell_type": "code",
   "execution_count": null,
   "metadata": {},
   "outputs": [],
   "source": [
    "# reference for hiding the raw code\n",
    "# https://mljar.com/blog/jupyter-notebook-hide-code/\n",
    "\n",
    "from IPython.display import HTML\n",
    "\n",
    "HTML('''<script>\n",
    "code_show=true; \n",
    "function code_toggle() {\n",
    " if (code_show){\n",
    " $('div.input').hide();\n",
    " } else {\n",
    " $('div.input').show();\n",
    " }\n",
    " code_show = !code_show\n",
    "} \n",
    "$( document ).ready(code_toggle);\n",
    "</script>\n",
    "<form action=\"javascript:code_toggle()\"><input type=\"submit\" value=\"Click here to toggle on/off the raw code.\"></form>''')"
   ]
  },
  {
   "cell_type": "markdown",
   "metadata": {},
   "source": [
    "## Data and Dependencies\n",
    "\n",
    "To use this notebook, you must have two datasets: the quiz data and the answer key for that quiz, both from D2L. For this example, we reccommend using our deidentified sample data, which can be found in the \"DataFiles\" section of our repository. The files are named \"ExampleData_QuizAttemptDetails.csv\" and \"ExampleData_AnswerKey.csv\". Please ensure that these are downloaded to your local machine in the same directory as this notebook. \n",
    "\n",
    "You must also have the necessary packages installed, which are imported below. The packages are: pandas, numpy, ipywidgets, and matplotlib, io, IPython.display, os, and sys. You can also use our environment.yml for help with this. Additionally, you should be able to access the functions from our D2L library. It is assumed that you already have python and Jupyter Notebooks set up for this notebook, but our \"INSTALL.md\" can help with that process if they are not already installed."
   ]
  },
  {
   "cell_type": "code",
   "execution_count": null,
   "metadata": {},
   "outputs": [],
   "source": [
    "# Imports\n",
    "\n",
    "# importing pandas library\n",
    "import pandas as pd\n",
    "\n",
    "# importing numpy library\n",
    "import numpy as np\n",
    "\n",
    "# importing ipywidget library\n",
    "import ipywidgets as widgets\n",
    "\n",
    "# importing matplotlib library\n",
    "import matplotlib.pyplot as plt\n",
    "\n",
    "#importing io library\n",
    "import io\n",
    "\n",
    "# importing display help\n",
    "from IPython.display import Javascript, display\n",
    "\n",
    "# allowing our notebook to access functions from other directories\n",
    "import os\n",
    "import sys\n",
    "module_path = os.path.abspath(os.path.join('..'))\n",
    "if module_path not in sys.path:\n",
    "    sys.path.append(module_path)\n",
    "    \n",
    "# used this as reference for this process\n",
    "# https://stackoverflow.com/questions/34478398/import-local-function-from-a-module-housed-in-another-directory-with-relative-im\n",
    "\n",
    "# importing our functionality\n",
    "from src.d2lapi import Final_Quiz, Final_Survey, Visualization_Bar, D2L_Widgets\n",
    "\n",
    "\n",
    "# reference, matplotlib documentation for barplot: \n",
    "# https://matplotlib.org/stable/api/_as_gen/matplotlib.pyplot.bar.html\n",
    "\n"
   ]
  },
  {
   "cell_type": "markdown",
   "metadata": {},
   "source": [
    "### Bringing in Data Files\n",
    "\n",
    "Here's where you will bring in your new data files."
   ]
  },
  {
   "cell_type": "code",
   "execution_count": null,
   "metadata": {
    "scrolled": true
   },
   "outputs": [],
   "source": [
    "quiz_data_file = widgets.interactive(D2L_Widgets.File_Upload_Convert, \n",
    "            input_file_widget_value = widgets.FileUpload(accept='.csv',\n",
    "                                                              description='Upload Quiz Attempt Data File to be Converted:',\n",
    "                                                              layout=widgets.Layout(width='50%', height='100%')))\n",
    "display(quiz_data_file)"
   ]
  },
  {
   "cell_type": "code",
   "execution_count": null,
   "metadata": {
    "scrolled": false
   },
   "outputs": [],
   "source": [
    "answer_key_file = widgets.interactive(D2L_Widgets.File_Upload_Convert, \n",
    "                 input_file_widget_value = widgets.FileUpload(accept='.csv',\n",
    "                                                              description='Upload Answer Key File to be Converted:',\n",
    "                                                              layout=widgets.Layout(width='50%', height='100%')))\n",
    "display(answer_key_file)"
   ]
  },
  {
   "cell_type": "markdown",
   "metadata": {},
   "source": [
    "## Visualization\n",
    "\n",
    "This section holds the main code for creating, saving, and interacting with our main visualization."
   ]
  },
  {
   "cell_type": "code",
   "execution_count": null,
   "metadata": {
    "scrolled": true
   },
   "outputs": [],
   "source": [
    "button = widgets.Button(description=\"Convert Data and Display the Figure\",\n",
    "                       layout=widgets.Layout(width='50%', height='80%'),)\n",
    "button.on_click(D2L_Widgets.run_2)\n",
    "display(button)"
   ]
  },
  {
   "cell_type": "code",
   "execution_count": null,
   "metadata": {},
   "outputs": [],
   "source": [
    "# Code to establish what's needed for dropdown\n",
    "# run this cell before attempting to create the dropdown\n",
    "converted_data = Final_Quiz.completeQuiz(quiz_data_file.result, answer_key_file.result)\n",
    "\n",
    "# get max question number with helper function\n",
    "max_q_num = Visualization_Bar.get_max_q_number(converted_data)\n",
    "\n",
    "# get list of questions as options for dropdown based on maximum question number\n",
    "q_num_list_real = ['Total'] + list(np.array(range(1, max_q_num + 1), dtype=str))"
   ]
  },
  {
   "cell_type": "markdown",
   "metadata": {},
   "source": [
    "#### The Interface\n",
    "\n",
    "The following inferface allows you to select a question number, or \"Total\" for all questions, to create a graph for. If the question is not compatible with our current scoring algorithm (Fill in the Blank, Matching - as discussed with instructional team), the function will display a message letting the user know that the question they selected is not compatible. \n"
   ]
  },
  {
   "cell_type": "code",
   "execution_count": null,
   "metadata": {},
   "outputs": [],
   "source": [
    "bar = widgets.interactive(Visualization_Bar.create_interactive_bar, \n",
    "                 df = widgets.fixed(converted_data), \n",
    "                 dropdown_value= widgets.Dropdown(options=q_num_list_real,\n",
    "                                                  value='17', description='Question Number:', \n",
    "                                                  layout=widgets.Layout(width='30%', height='50%'), \n",
    "                                                  style = {'description_width': 'initial'}))\n",
    "display(bar)"
   ]
  },
  {
   "cell_type": "markdown",
   "metadata": {},
   "source": [
    "### Saving the Figure\n",
    "\n",
    "Here's where you will save the figure to your local machine. If your desired file name for the saved figure is different from the default displayed in the text entry box, please change it and then move forward."
   ]
  },
  {
   "cell_type": "code",
   "execution_count": null,
   "metadata": {
    "scrolled": false
   },
   "outputs": [],
   "source": [
    "desired_file_name = widgets.interactive(D2L_Widgets.f, \n",
    "                 x=widgets.Text(value = 'Bar_Visualization', \n",
    "                                description= 'Desired Figure Name (do not include .png)', \n",
    "                                style={'description_width': 'initial'},\n",
    "                                layout=widgets.Layout(width='60%', height='80%')))\n",
    "display(desired_file_name)"
   ]
  },
  {
   "cell_type": "code",
   "execution_count": null,
   "metadata": {
    "scrolled": true
   },
   "outputs": [],
   "source": [
    "button = widgets.Button(description=\"Save Figure\",\n",
    "                       layout=widgets.Layout(width='50%', height='80%'),)\n",
    "button.on_click(D2L_Widgets.run_1)\n",
    "display(button)"
   ]
  },
  {
   "cell_type": "code",
   "execution_count": null,
   "metadata": {},
   "outputs": [],
   "source": [
    "# figure saving cell\n",
    "# run to save the figure based on selection above and titles based on the text entry box above\n",
    "final_fig = bar.result\n",
    "final_fig.savefig(desired_file_name.result)"
   ]
  },
  {
   "cell_type": "markdown",
   "metadata": {},
   "source": [
    "#### All Done! Thank you for following our tutorial. Please reach out with any questions or concerns."
   ]
  }
 ],
 "metadata": {
  "kernelspec": {
   "display_name": "Python 3",
   "language": "python",
   "name": "python3"
  },
  "language_info": {
   "codemirror_mode": {
    "name": "ipython",
    "version": 3
   },
   "file_extension": ".py",
   "mimetype": "text/x-python",
   "name": "python",
   "nbconvert_exporter": "python",
   "pygments_lexer": "ipython3",
   "version": "3.8.5"
  }
 },
 "nbformat": 4,
 "nbformat_minor": 4
}
