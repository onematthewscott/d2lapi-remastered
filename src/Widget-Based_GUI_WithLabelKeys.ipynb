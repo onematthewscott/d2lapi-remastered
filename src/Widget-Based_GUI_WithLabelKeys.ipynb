{
 "cells": [
  {
   "cell_type": "markdown",
   "metadata": {},
   "source": [
    "# Widget-Based GUI\n",
    "\n",
    "### MSU D2L Instructor API\n",
    "\n",
    "This notebook will help you convert quiz and survey output from D2L into the desired format, and then download it as a csv!\n",
    "\n",
    "Please first run all cells, then interact with the widgets to bring in data files and carry out tasks. When you first run the full notebook, there may be errors because of lack of data, etc, that should be resolved when you bring in your data.\n",
    "\n",
    "Click [this link](https://mediaspace.msu.edu/media/WidgetBasedGUI_Tutorial/1_2unbogi0) for a video tutorial about using this GUI.\n"
   ]
  },
  {
   "cell_type": "markdown",
   "metadata": {},
   "source": [
    "### Imports"
   ]
  },
  {
   "cell_type": "code",
   "execution_count": 1,
   "metadata": {},
   "outputs": [
    {
     "data": {
      "text/html": [
       "<script>\n",
       "code_show=true; \n",
       "function code_toggle() {\n",
       " if (code_show){\n",
       " $('div.input').hide();\n",
       " } else {\n",
       " $('div.input').show();\n",
       " }\n",
       " code_show = !code_show\n",
       "} \n",
       "$( document ).ready(code_toggle);\n",
       "</script>\n",
       "<form action=\"javascript:code_toggle()\"><input type=\"submit\" value=\"Click here to toggle on/off the raw code.\"></form>"
      ],
      "text/plain": [
       "<IPython.core.display.HTML object>"
      ]
     },
     "execution_count": 1,
     "metadata": {},
     "output_type": "execute_result"
    }
   ],
   "source": [
    "# reference for hiding the raw code\n",
    "# https://mljar.com/blog/jupyter-notebook-hide-code/\n",
    "\n",
    "from IPython.display import HTML\n",
    "\n",
    "HTML('''<script>\n",
    "code_show=true; \n",
    "function code_toggle() {\n",
    " if (code_show){\n",
    " $('div.input').hide();\n",
    " } else {\n",
    " $('div.input').show();\n",
    " }\n",
    " code_show = !code_show\n",
    "} \n",
    "$( document ).ready(code_toggle);\n",
    "</script>\n",
    "<form action=\"javascript:code_toggle()\"><input type=\"submit\" value=\"Click here to toggle on/off the raw code.\"></form>''')"
   ]
  },
  {
   "cell_type": "code",
   "execution_count": 3,
   "metadata": {
    "scrolled": false
   },
   "outputs": [],
   "source": [
    "# Imports\n",
    "\n",
    "from d2lapi import Final_Quiz, Final_Survey, Visualization_Bar, D2L_Widgets\n",
    "\n",
    "# importing pandas library\n",
    "import pandas as pd\n",
    "\n",
    "# importing numpy library\n",
    "import numpy as np\n",
    "\n",
    "# importing ipywidget library\n",
    "import ipywidgets as widgets\n",
    "\n",
    "# importing matplotlib library\n",
    "import matplotlib.pyplot as plt\n",
    "\n",
    "#importing io library\n",
    "import io\n",
    "\n",
    "# importing display help\n",
    "from IPython.display import Javascript, display\n",
    "\n",
    "# reference, matplotlib documentation for barplot: \n",
    "# https://matplotlib.org/stable/api/_as_gen/matplotlib.pyplot.bar.html"
   ]
  },
  {
   "cell_type": "markdown",
   "metadata": {},
   "source": [
    "# D2L Quiz Data Converter"
   ]
  },
  {
   "cell_type": "markdown",
   "metadata": {},
   "source": [
    "## Widget Interface"
   ]
  },
  {
   "cell_type": "markdown",
   "metadata": {},
   "source": [
    "### Insert desired new file names here!\n",
    "\n",
    "Here's where you will bring in your new data files. Enter the desired name of your reformatted quiz data file in the below text entry widget. \n",
    "\n",
    "Note: be sure to pick a unique name for your new file. This GUI cannot overwrite files that already exist in your directory."
   ]
  },
  {
   "cell_type": "code",
   "execution_count": 4,
   "metadata": {},
   "outputs": [
    {
     "data": {
      "application/vnd.jupyter.widget-view+json": {
       "model_id": "86fad46cb185484fad86dc4a0b6f1338",
       "version_major": 2,
       "version_minor": 0
      },
      "text/plain": [
       "interactive(children=(Text(value='Converted_Quiz.csv', description='Desired File Name Including .csv', layout=…"
      ]
     },
     "metadata": {},
     "output_type": "display_data"
    }
   ],
   "source": [
    "desired_file_name = widgets.interactive(D2L_Widgets.f, \n",
    "                 x=widgets.Text(value = 'Converted_Quiz.csv', \n",
    "                                description= 'Desired File Name Including .csv', \n",
    "                                style={'description_width': 'initial'},\n",
    "                                layout=widgets.Layout(width='60%', height='80%')))\n",
    "display(desired_file_name)"
   ]
  },
  {
   "cell_type": "markdown",
   "metadata": {},
   "source": [
    "Enter the desired name of your question and answer label key file in the below text entry widget. \n",
    "\n",
    "Note: be sure to pick a unique name for your new file. This GUI cannot overwrite files that already exist in your directory."
   ]
  },
  {
   "cell_type": "code",
   "execution_count": 5,
   "metadata": {},
   "outputs": [
    {
     "data": {
      "application/vnd.jupyter.widget-view+json": {
       "model_id": "23d37a8370a84d75a0df1a61161c08dd",
       "version_major": 2,
       "version_minor": 0
      },
      "text/plain": [
       "interactive(children=(Text(value='Question_Label_Key.csv', description='Desired File Name Including .csv', lay…"
      ]
     },
     "metadata": {},
     "output_type": "display_data"
    }
   ],
   "source": [
    "desired_qa_key_file_name = widgets.interactive(D2L_Widgets.f, \n",
    "                 x=widgets.Text(value = 'Question_Label_Key.csv', \n",
    "                                description= 'Desired File Name Including .csv', \n",
    "                                style={'description_width': 'initial'},\n",
    "                                layout=widgets.Layout(width='60%', height='80%')))\n",
    "display(desired_qa_key_file_name)"
   ]
  },
  {
   "cell_type": "markdown",
   "metadata": {},
   "source": [
    "### Bringing in Data Files\n",
    "\n",
    "Here's where you will bring in your new data files. Click the button to select the corresponding file from your directory. "
   ]
  },
  {
   "cell_type": "markdown",
   "metadata": {},
   "source": [
    "### Attempt Data File"
   ]
  },
  {
   "cell_type": "code",
   "execution_count": 7,
   "metadata": {},
   "outputs": [
    {
     "data": {
      "application/vnd.jupyter.widget-view+json": {
       "model_id": "fa4588643b2b4edbafd628d370d632d4",
       "version_major": 2,
       "version_minor": 0
      },
      "text/plain": [
       "interactive(children=(FileUpload(value=(), accept='.csv', description='Upload Quiz Attempt Data File to be Con…"
      ]
     },
     "metadata": {},
     "output_type": "display_data"
    }
   ],
   "source": [
    "quiz_data_file = widgets.interactive(D2L_Widgets.File_Upload_Convert, \n",
    "            input_file_widget_value = widgets.FileUpload(accept='.csv',\n",
    "                                                              description='Upload Quiz Attempt Data File to be Converted:',\n",
    "                                                              layout=widgets.Layout(width='50%', height='100%')))\n",
    "display(quiz_data_file)"
   ]
  },
  {
   "cell_type": "markdown",
   "metadata": {},
   "source": [
    "### Answer Key Data File"
   ]
  },
  {
   "cell_type": "code",
   "execution_count": null,
   "metadata": {},
   "outputs": [],
   "source": [
    "answer_key_file = widgets.interactive(D2L_Widgets.File_Upload_Convert, \n",
    "                 input_file_widget_value = widgets.FileUpload(accept='.csv',\n",
    "                                                              description='Upload Answer Key File to be Converted:',\n",
    "                                                              layout=widgets.Layout(width='50%', height='100%')))\n",
    "display(answer_key_file)"
   ]
  },
  {
   "cell_type": "markdown",
   "metadata": {},
   "source": [
    "## Ready to Convert!\n",
    "\n",
    "Once you've completed all of the input steps above, click the button!\n",
    "\n",
    "The new file should show up in the same directory with your desired name.\n"
   ]
  },
  {
   "cell_type": "code",
   "execution_count": null,
   "metadata": {},
   "outputs": [],
   "source": [
    "button = widgets.Button(\n",
    "    # text on button\n",
    "    description='Click to Convert and Download New File',\n",
    "    # style\n",
    "    # button size\n",
    "    layout=widgets.Layout(width='50%', height='100%'),\n",
    "    # what is shown if you hover over the button with your cursor but don't click\n",
    "    tooltip='Convert',\n",
    "    # little symbol on the button\n",
    "    icon='check' # (FontAwesome names without the `fa-` prefix)\n",
    "    )\n",
    "button.on_click(D2L_Widgets.run_1)\n",
    "display(button)"
   ]
  },
  {
   "cell_type": "code",
   "execution_count": null,
   "metadata": {
    "scrolled": false
   },
   "outputs": [],
   "source": [
    "df, qa_key = Final_Quiz.completeQuiz(quiz_data_file.result, answer_key_file.result, qa_label_key = True)\n",
    "df.to_csv(desired_file_name.result)\n",
    "qa_key.to_csv(desired_qa_key_file_name.result, index = False)"
   ]
  },
  {
   "cell_type": "markdown",
   "metadata": {},
   "source": [
    "### All Done! Enjoy your reformatted quiz data!\n"
   ]
  },
  {
   "cell_type": "markdown",
   "metadata": {},
   "source": [
    "# D2L Survey Data Converter\n",
    "\n",
    "Please first run all cells below, then interact with the widgets to bring in data files and carry out tasks. When you first run the full notebook, there may be errors because of lack of data, etc, that should be resolved when you bring in your data."
   ]
  },
  {
   "cell_type": "markdown",
   "metadata": {},
   "source": [
    "### Insert desired new file name here!\n",
    "\n",
    "Here's where you will bring in your new data files. Enter the desired name of your new file in the below text entry widget. \n",
    "\n",
    "Note: be sure to pick a unique name for your new file. This GUI cannot overwrite files that already exist in your directory."
   ]
  },
  {
   "cell_type": "code",
   "execution_count": null,
   "metadata": {},
   "outputs": [],
   "source": [
    "desired_survey_file_name = widgets.interactive(D2L_Widgets.f, \n",
    "                 x=widgets.Text(value = 'Converted_Survey.csv', \n",
    "                                description= 'Desired File Name Including .csv', \n",
    "                                style={'description_width': 'initial'},\n",
    "                                layout=widgets.Layout(width='60%', height='80%')))\n",
    "display(desired_survey_file_name)"
   ]
  },
  {
   "cell_type": "markdown",
   "metadata": {},
   "source": [
    "Enter the desired name of your question and answer label key file in the below text entry widget. \n",
    "\n",
    "Note: be sure to pick a unique name for your new file. This GUI cannot overwrite files that already exist in your directory."
   ]
  },
  {
   "cell_type": "code",
   "execution_count": null,
   "metadata": {},
   "outputs": [],
   "source": [
    "desired_qa_key_file_name_survey = widgets.interactive(D2L_Widgets.f, \n",
    "                 x=widgets.Text(value = 'Survey_Question_Label_Key.csv', \n",
    "                                description= 'Desired File Name Including .csv', \n",
    "                                style={'description_width': 'initial'},\n",
    "                                layout=widgets.Layout(width='60%', height='80%')))\n",
    "display(desired_qa_key_file_name_survey)"
   ]
  },
  {
   "cell_type": "markdown",
   "metadata": {},
   "source": [
    "### Bringing in Data Files\n",
    "\n",
    "Here's where you will bring in your new data files. Click the button to select the corresponding file from your directory."
   ]
  },
  {
   "cell_type": "markdown",
   "metadata": {},
   "source": [
    "### Survey Data File"
   ]
  },
  {
   "cell_type": "code",
   "execution_count": null,
   "metadata": {},
   "outputs": [],
   "source": [
    "survey_data_file = widgets.interactive(D2L_Widgets.File_Upload_Convert, \n",
    "                 input_file_widget_value = widgets.FileUpload(accept='.csv',\n",
    "                                                              description='Upload Survey Data File to be Converted:',\n",
    "                                                              layout=widgets.Layout(width='50%', height='100%')))\n",
    "display(survey_data_file)"
   ]
  },
  {
   "cell_type": "markdown",
   "metadata": {},
   "source": [
    "## Ready to Convert!\n",
    "\n",
    "Once you've completed all of the input steps above, click the button!\n",
    "\n",
    "The new file should show up in the same directory with your desired name.\n"
   ]
  },
  {
   "cell_type": "code",
   "execution_count": null,
   "metadata": {},
   "outputs": [],
   "source": [
    "button = widgets.Button(\n",
    "    # text on button\n",
    "    description='Click to Convert and Download New File',\n",
    "    # style\n",
    "    # button size\n",
    "    layout=widgets.Layout(width='50%', height='100%'),\n",
    "    # what is shown if you hover over the button with your cursor but don't click\n",
    "    tooltip='Convert',\n",
    "    # little symbol on the button\n",
    "    icon='check' # (FontAwesome names without the `fa-` prefix)\n",
    "    )\n",
    "button.on_click(D2L_Widgets.run_1)\n",
    "display(button)"
   ]
  },
  {
   "cell_type": "code",
   "execution_count": null,
   "metadata": {},
   "outputs": [],
   "source": [
    "survey_df, survey_qa_key = Final_Survey.completeSurvey(survey_data_file.result, qa_label_key = True)\n",
    "survey_df.to_csv(desired_survey_file_name.result)\n",
    "survey_qa_key.to_csv(desired_qa_key_file_name_survey.result)"
   ]
  },
  {
   "cell_type": "markdown",
   "metadata": {},
   "source": [
    "### All Done! Enjoy your reformatted survey data!"
   ]
  },
  {
   "cell_type": "markdown",
   "metadata": {},
   "source": [
    "## Troubleshooting\n",
    "\n",
    "#### Empty Data Error\n",
    "If you get the error: ```EmptyDataError: No columns to parse from file```, restart the kernel and try again, ensuring that your input files are uploaded properly and you do not click the convert button more than once."
   ]
  }
 ],
 "metadata": {
  "kernelspec": {
   "display_name": "Python 3.10.5 64-bit",
   "language": "python",
   "name": "python3"
  },
  "language_info": {
   "codemirror_mode": {
    "name": "ipython",
    "version": 3
   },
   "file_extension": ".py",
   "mimetype": "text/x-python",
   "name": "python",
   "nbconvert_exporter": "python",
   "pygments_lexer": "ipython3",
   "version": "3.10.5"
  },
  "vscode": {
   "interpreter": {
    "hash": "2a70e6181bf9f50a94afbea50de4b4909511b8a5f46fb085df63cccd95d81595"
   }
  }
 },
 "nbformat": 4,
 "nbformat_minor": 4
}
